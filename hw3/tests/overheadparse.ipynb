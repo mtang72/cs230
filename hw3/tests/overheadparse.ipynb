{
 "cells": [
  {
   "cell_type": "code",
   "execution_count": 1,
   "metadata": {},
   "outputs": [],
   "source": [
    "#imports\n",
    "import numpy as np, pandas as pd, os, openpyxl\n",
    "from re import search"
   ]
  },
  {
   "cell_type": "code",
   "execution_count": 2,
   "metadata": {},
   "outputs": [],
   "source": [
    "#dict init\n",
    "d = {'nthreads: 0 lockmode: -1':[],'nthreads: 1 lockmode: 0':[],\\\n",
    "    'nthreads: 1 lockmode: 1':[],'nthreads: 1 lockmode: 2':[],\\\n",
    "    'nthreads: 1 lockmode: 3':[]}"
   ]
  },
  {
   "cell_type": "code",
   "execution_count": 3,
   "metadata": {},
   "outputs": [],
   "source": [
    "with open('LockOverhead.txt','r') as f:\n",
    "    text = (f.read().split('----------------------------'))[:-1]\n",
    "    for item in text:\n",
    "        d[search(r'nthreads: [0-9]+ lockmode: -*[0-9]',item).group()].append(int(search(r'(?<=Runtime: )[0-9]+',item).group()))"
   ]
  },
  {
   "cell_type": "code",
   "execution_count": 4,
   "metadata": {},
   "outputs": [],
   "source": [
    "for key in d.keys():\n",
    "    d[key] = 2725408/(sum(d[key])/10)\n",
    "\n",
    "for key in d.keys():\n",
    "    if key != 'nthreads: 0 lockmode: -1':\n",
    "        d[key] = d[key]/d['nthreads: 0 lockmode: -1']"
   ]
  },
  {
   "cell_type": "code",
   "execution_count": 5,
   "metadata": {},
   "outputs": [],
   "source": [
    "df = pd.DataFrame(columns=['nthreads','TASLock', 'PThreads', 'ALock', 'CLHLock'])"
   ]
  },
  {
   "cell_type": "code",
   "execution_count": 6,
   "metadata": {},
   "outputs": [],
   "source": [
    "df.loc[:,'nthreads'] = [1]"
   ]
  },
  {
   "cell_type": "code",
   "execution_count": 7,
   "metadata": {},
   "outputs": [],
   "source": [
    "df.set_index('nthreads',inplace=True)"
   ]
  },
  {
   "cell_type": "code",
   "execution_count": 8,
   "metadata": {},
   "outputs": [],
   "source": [
    "df.loc[:,'TASLock'] = [d[key] for key in d.keys() if 'lockmode: 0' in key]\n",
    "df.loc[:,'PThreads'] = [d[key] for key in d.keys() if 'lockmode: 1' in key]\n",
    "df.loc[:,'ALock'] = [d[key] for key in d.keys() if 'lockmode: 2' in key]\n",
    "df.loc[:,'CLHLock'] = [d[key] for key in d.keys() if 'lockmode: 3' in key]"
   ]
  },
  {
   "cell_type": "code",
   "execution_count": 9,
   "metadata": {},
   "outputs": [],
   "source": [
    "df.to_excel('overheadDF.xlsx')"
   ]
  },
  {
   "cell_type": "code",
   "execution_count": 10,
   "metadata": {},
   "outputs": [
    {
     "data": {
      "text/html": [
       "<div>\n",
       "<style scoped>\n",
       "    .dataframe tbody tr th:only-of-type {\n",
       "        vertical-align: middle;\n",
       "    }\n",
       "\n",
       "    .dataframe tbody tr th {\n",
       "        vertical-align: top;\n",
       "    }\n",
       "\n",
       "    .dataframe thead th {\n",
       "        text-align: right;\n",
       "    }\n",
       "</style>\n",
       "<table border=\"1\" class=\"dataframe\">\n",
       "  <thead>\n",
       "    <tr style=\"text-align: right;\">\n",
       "      <th></th>\n",
       "      <th>TASLock</th>\n",
       "      <th>PThreads</th>\n",
       "      <th>ALock</th>\n",
       "      <th>CLHLock</th>\n",
       "    </tr>\n",
       "    <tr>\n",
       "      <th>nthreads</th>\n",
       "      <th></th>\n",
       "      <th></th>\n",
       "      <th></th>\n",
       "      <th></th>\n",
       "    </tr>\n",
       "  </thead>\n",
       "  <tbody>\n",
       "    <tr>\n",
       "      <th>1</th>\n",
       "      <td>0.135593</td>\n",
       "      <td>0.076482</td>\n",
       "      <td>0.130933</td>\n",
       "      <td>0.131796</td>\n",
       "    </tr>\n",
       "  </tbody>\n",
       "</table>\n",
       "</div>"
      ],
      "text/plain": [
       "           TASLock  PThreads     ALock   CLHLock\n",
       "nthreads                                        \n",
       "1         0.135593  0.076482  0.130933  0.131796"
      ]
     },
     "execution_count": 10,
     "metadata": {},
     "output_type": "execute_result"
    }
   ],
   "source": [
    "df"
   ]
  }
 ],
 "metadata": {
  "kernelspec": {
   "display_name": "Python 3",
   "language": "python",
   "name": "python3"
  },
  "language_info": {
   "codemirror_mode": {
    "name": "ipython",
    "version": 3
   },
   "file_extension": ".py",
   "mimetype": "text/x-python",
   "name": "python",
   "nbconvert_exporter": "python",
   "pygments_lexer": "ipython3",
   "version": "3.7.0"
  }
 },
 "nbformat": 4,
 "nbformat_minor": 2
}
