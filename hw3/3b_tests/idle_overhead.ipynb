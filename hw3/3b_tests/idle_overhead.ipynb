{
 "cells": [
  {
   "cell_type": "code",
   "execution_count": 1,
   "metadata": {},
   "outputs": [],
   "source": [
    "#imports\n",
    "import numpy as np, pandas as pd, os, openpyxl, re"
   ]
  },
  {
   "cell_type": "code",
   "execution_count": 2,
   "metadata": {},
   "outputs": [],
   "source": [
    "with open(\"overheadperf.txt\",\"r\") as f:\n",
    "    txt = list(filter(lambda x:not re.match(r\"\\s*$\",x), f.read().split(\"\\n-------end session-------\\n\")))"
   ]
  },
  {
   "cell_type": "markdown",
   "metadata": {},
   "source": [
    "df will be for the first part of the overhead experiment, comparing throughput of all the locks in HomeQueue with throughput of LockFree for all W. The \"LockFree\" column here is the throughput of LockFree, while the rest are ratios throughput to LockFree.\n",
    "\n",
    "df1 will be to compare the worker rates of all the parallel versions to the worker rates of Serial-Queue gotten from HW2 for all W.\n",
    "\n",
    "Runtime was capped at 2000ms and 5 trials of every setting done and averaged out."
   ]
  },
  {
   "cell_type": "code",
   "execution_count": 3,
   "metadata": {},
   "outputs": [],
   "source": [
    "df = pd.DataFrame(columns=['W','LockFree','TASLock','pthread_mutex','ALock','CLHLock'])\n",
    "df.loc[:,'W'] = [25, 50, 100, 200, 400, 800]\n",
    "df.set_index('W',inplace=True)\n",
    "df.loc[:,:] = np.zeros((6,5))"
   ]
  },
  {
   "cell_type": "code",
   "execution_count": 4,
   "metadata": {},
   "outputs": [],
   "source": [
    "df1 = pd.DataFrame(columns=['W','LockFree','TASLock','pthread_mutex','ALock','CLHLock'])\n",
    "df1.loc[:,'W'] = [25, 50, 100, 200, 400, 800]\n",
    "df1.set_index('W',inplace=True)\n",
    "df1.loc[:,:] = np.zeros((6,5))"
   ]
  },
  {
   "cell_type": "code",
   "execution_count": 5,
   "metadata": {},
   "outputs": [],
   "source": [
    "typedict = {-1:'LockFree', 0:'TASLock', 1:'pthread_mutex', 2:'ALock', 3:'CLHLock'}\n",
    "wavg = [1144.938891, 863.9249239, 570.8353013, 340.4621775, 189.7636581, 100.0342554] #serial-queue worker rates for W=25,50,100,200,400"
   ]
  },
  {
   "cell_type": "code",
   "execution_count": 6,
   "metadata": {},
   "outputs": [],
   "source": [
    "#parsing\n",
    "for s in range(len(txt)):\n",
    "    W = int(re.search(r'(?<=pkwk: )[0-9]+',txt[s]).group())\n",
    "    processed = int(re.search(r\"(?<=processed: )[0-9]+\",txt[s]).group())\n",
    "    locktype = int(re.search(r'(?<=lockmode: )\\-*[0-9]+',txt[s]).group())\n",
    "    df.loc[W, typedict[locktype]] += processed\n",
    "    df1.loc[W, typedict[locktype]] += processed"
   ]
  },
  {
   "cell_type": "code",
   "execution_count": 7,
   "metadata": {},
   "outputs": [],
   "source": [
    "#here and below: setting dfs to throughput avg ratio\n",
    "df = df/(5*2000)\n",
    "df1 = df1/(5*2000)"
   ]
  },
  {
   "cell_type": "code",
   "execution_count": 8,
   "metadata": {},
   "outputs": [],
   "source": [
    "for i in range(6):\n",
    "    df1.iloc[i,0] /= wavg[i]\n",
    "    for j in range(1,5):\n",
    "        df.iloc[i,j] /= df.iloc[i,0]\n",
    "        df1.iloc[i,j] /= wavg[i]"
   ]
  },
  {
   "cell_type": "code",
   "execution_count": 9,
   "metadata": {},
   "outputs": [],
   "source": [
    "#write to excel\n",
    "with pd.ExcelWriter('overEX.xlsx') as writer:\n",
    "    df.to_excel(writer,sheet_name='Overhead to LockFree')\n",
    "    df1.to_excel(writer,sheet_name='Worker Rate vs. Serial-Queue')"
   ]
  },
  {
   "cell_type": "code",
   "execution_count": 10,
   "metadata": {},
   "outputs": [
    {
     "data": {
      "text/html": [
       "<div>\n",
       "<style scoped>\n",
       "    .dataframe tbody tr th:only-of-type {\n",
       "        vertical-align: middle;\n",
       "    }\n",
       "\n",
       "    .dataframe tbody tr th {\n",
       "        vertical-align: top;\n",
       "    }\n",
       "\n",
       "    .dataframe thead th {\n",
       "        text-align: right;\n",
       "    }\n",
       "</style>\n",
       "<table border=\"1\" class=\"dataframe\">\n",
       "  <thead>\n",
       "    <tr style=\"text-align: right;\">\n",
       "      <th></th>\n",
       "      <th>LockFree</th>\n",
       "      <th>TASLock</th>\n",
       "      <th>pthread_mutex</th>\n",
       "      <th>ALock</th>\n",
       "      <th>CLHLock</th>\n",
       "    </tr>\n",
       "    <tr>\n",
       "      <th>W</th>\n",
       "      <th></th>\n",
       "      <th></th>\n",
       "      <th></th>\n",
       "      <th></th>\n",
       "      <th></th>\n",
       "    </tr>\n",
       "  </thead>\n",
       "  <tbody>\n",
       "    <tr>\n",
       "      <th>25</th>\n",
       "      <td>2382.9148</td>\n",
       "      <td>0.888583</td>\n",
       "      <td>0.850449</td>\n",
       "      <td>0.878418</td>\n",
       "      <td>0.978977</td>\n",
       "    </tr>\n",
       "    <tr>\n",
       "      <th>50</th>\n",
       "      <td>1852.2476</td>\n",
       "      <td>0.941302</td>\n",
       "      <td>0.916282</td>\n",
       "      <td>0.930324</td>\n",
       "      <td>0.949323</td>\n",
       "    </tr>\n",
       "    <tr>\n",
       "      <th>100</th>\n",
       "      <td>1520.3800</td>\n",
       "      <td>0.966501</td>\n",
       "      <td>0.941462</td>\n",
       "      <td>0.956947</td>\n",
       "      <td>0.971371</td>\n",
       "    </tr>\n",
       "    <tr>\n",
       "      <th>200</th>\n",
       "      <td>1123.3679</td>\n",
       "      <td>0.978601</td>\n",
       "      <td>0.932575</td>\n",
       "      <td>0.966585</td>\n",
       "      <td>0.976139</td>\n",
       "    </tr>\n",
       "    <tr>\n",
       "      <th>400</th>\n",
       "      <td>736.7183</td>\n",
       "      <td>0.981725</td>\n",
       "      <td>0.968505</td>\n",
       "      <td>0.979656</td>\n",
       "      <td>0.982759</td>\n",
       "    </tr>\n",
       "    <tr>\n",
       "      <th>800</th>\n",
       "      <td>434.1277</td>\n",
       "      <td>0.989918</td>\n",
       "      <td>0.983766</td>\n",
       "      <td>0.989012</td>\n",
       "      <td>0.990380</td>\n",
       "    </tr>\n",
       "  </tbody>\n",
       "</table>\n",
       "</div>"
      ],
      "text/plain": [
       "      LockFree   TASLock  pthread_mutex     ALock   CLHLock\n",
       "W                                                          \n",
       "25   2382.9148  0.888583       0.850449  0.878418  0.978977\n",
       "50   1852.2476  0.941302       0.916282  0.930324  0.949323\n",
       "100  1520.3800  0.966501       0.941462  0.956947  0.971371\n",
       "200  1123.3679  0.978601       0.932575  0.966585  0.976139\n",
       "400   736.7183  0.981725       0.968505  0.979656  0.982759\n",
       "800   434.1277  0.989918       0.983766  0.989012  0.990380"
      ]
     },
     "execution_count": 10,
     "metadata": {},
     "output_type": "execute_result"
    }
   ],
   "source": [
    "df"
   ]
  },
  {
   "cell_type": "code",
   "execution_count": 11,
   "metadata": {},
   "outputs": [
    {
     "data": {
      "text/html": [
       "<div>\n",
       "<style scoped>\n",
       "    .dataframe tbody tr th:only-of-type {\n",
       "        vertical-align: middle;\n",
       "    }\n",
       "\n",
       "    .dataframe tbody tr th {\n",
       "        vertical-align: top;\n",
       "    }\n",
       "\n",
       "    .dataframe thead th {\n",
       "        text-align: right;\n",
       "    }\n",
       "</style>\n",
       "<table border=\"1\" class=\"dataframe\">\n",
       "  <thead>\n",
       "    <tr style=\"text-align: right;\">\n",
       "      <th></th>\n",
       "      <th>LockFree</th>\n",
       "      <th>TASLock</th>\n",
       "      <th>pthread_mutex</th>\n",
       "      <th>ALock</th>\n",
       "      <th>CLHLock</th>\n",
       "    </tr>\n",
       "    <tr>\n",
       "      <th>W</th>\n",
       "      <th></th>\n",
       "      <th></th>\n",
       "      <th></th>\n",
       "      <th></th>\n",
       "      <th></th>\n",
       "    </tr>\n",
       "  </thead>\n",
       "  <tbody>\n",
       "    <tr>\n",
       "      <th>25</th>\n",
       "      <td>2.081259</td>\n",
       "      <td>1.849371</td>\n",
       "      <td>1.770004</td>\n",
       "      <td>1.828216</td>\n",
       "      <td>2.037506</td>\n",
       "    </tr>\n",
       "    <tr>\n",
       "      <th>50</th>\n",
       "      <td>2.143991</td>\n",
       "      <td>2.018144</td>\n",
       "      <td>1.964501</td>\n",
       "      <td>1.994607</td>\n",
       "      <td>2.035339</td>\n",
       "    </tr>\n",
       "    <tr>\n",
       "      <th>100</th>\n",
       "      <td>2.663430</td>\n",
       "      <td>2.574207</td>\n",
       "      <td>2.507518</td>\n",
       "      <td>2.548763</td>\n",
       "      <td>2.587180</td>\n",
       "    </tr>\n",
       "    <tr>\n",
       "      <th>200</th>\n",
       "      <td>3.299538</td>\n",
       "      <td>3.228931</td>\n",
       "      <td>3.077068</td>\n",
       "      <td>3.189283</td>\n",
       "      <td>3.220807</td>\n",
       "    </tr>\n",
       "    <tr>\n",
       "      <th>400</th>\n",
       "      <td>3.882294</td>\n",
       "      <td>3.811346</td>\n",
       "      <td>3.760020</td>\n",
       "      <td>3.803311</td>\n",
       "      <td>3.815359</td>\n",
       "    </tr>\n",
       "    <tr>\n",
       "      <th>800</th>\n",
       "      <td>4.339790</td>\n",
       "      <td>4.296038</td>\n",
       "      <td>4.269337</td>\n",
       "      <td>4.292105</td>\n",
       "      <td>4.298044</td>\n",
       "    </tr>\n",
       "  </tbody>\n",
       "</table>\n",
       "</div>"
      ],
      "text/plain": [
       "     LockFree   TASLock  pthread_mutex     ALock   CLHLock\n",
       "W                                                         \n",
       "25   2.081259  1.849371       1.770004  1.828216  2.037506\n",
       "50   2.143991  2.018144       1.964501  1.994607  2.035339\n",
       "100  2.663430  2.574207       2.507518  2.548763  2.587180\n",
       "200  3.299538  3.228931       3.077068  3.189283  3.220807\n",
       "400  3.882294  3.811346       3.760020  3.803311  3.815359\n",
       "800  4.339790  4.296038       4.269337  4.292105  4.298044"
      ]
     },
     "execution_count": 11,
     "metadata": {},
     "output_type": "execute_result"
    }
   ],
   "source": [
    "df1"
   ]
  }
 ],
 "metadata": {
  "kernelspec": {
   "display_name": "Python 3",
   "language": "python",
   "name": "python3"
  },
  "language_info": {
   "codemirror_mode": {
    "name": "ipython",
    "version": 3
   },
   "file_extension": ".py",
   "mimetype": "text/x-python",
   "name": "python",
   "nbconvert_exporter": "python",
   "pygments_lexer": "ipython3",
   "version": "3.7.0"
  }
 },
 "nbformat": 4,
 "nbformat_minor": 2
}
