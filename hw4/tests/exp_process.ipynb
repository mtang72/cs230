{
 "cells": [
  {
   "cell_type": "code",
   "execution_count": 1,
   "metadata": {},
   "outputs": [],
   "source": [
    "#imports\n",
    "import numpy as np, pandas as pd, os, openpyxl, re"
   ]
  },
  {
   "cell_type": "code",
   "execution_count": 2,
   "metadata": {},
   "outputs": [],
   "source": [
    "with open(\"exp2_parovr.txt\",\"r\") as f:\n",
    "    txt = list(filter(lambda x:not re.match(r\"\\s*$\",x), f.read().split(\"\\n-------end session-------\\n\")))"
   ]
  },
  {
   "cell_type": "markdown",
   "metadata": {},
   "source": [
    "Runtime was capped at 2000ms and 5 trials of every setting done and averaged out."
   ]
  },
  {
   "cell_type": "code",
   "execution_count": 3,
   "metadata": {},
   "outputs": [],
   "source": [
    "#initializing each necessary dataframe\n",
    "df = pd.DataFrame(columns=['Hash Table Type','Mostly Reads','Heavy Writes'])\n",
    "df.loc[:,'Hash Table Type'] = ['Serial', 'Striped Lock', 'Optimistic Striped Lock']\n",
    "df.set_index('Hash Table Type',inplace=True)\n",
    "df.loc[:,:] = np.zeros((3,2))"
   ]
  },
  {
   "cell_type": "code",
   "execution_count": 4,
   "metadata": {},
   "outputs": [],
   "source": [
    "htypedict = {0:'Serial', 1:'Striped Lock', 2:'Optimistic Striped Lock'}\n",
    "optypedict = {.09: 'Mostly Reads', .45: 'Heavy Writes'}"
   ]
  },
  {
   "cell_type": "code",
   "execution_count": 5,
   "metadata": {},
   "outputs": [],
   "source": [
    "#parse, then avg\n",
    "for s in range(len(txt)):\n",
    "    processed = int(re.search(r\"(?<=processed: )[0-9]+\",txt[s]).group())\n",
    "    hashtype = int(re.search(r\"(?<=htype: )[0-9]+\",txt[s]).group())\n",
    "    addpor = float(re.search(r\"(?<=addpor: )[0-9]*\\.[0-9]+\",txt[s]).group())\n",
    "    df.loc[htypedict[hashtype],optypedict[addpor]] += processed\n",
    "df /= (5*2000)"
   ]
  },
  {
   "cell_type": "code",
   "execution_count": 6,
   "metadata": {},
   "outputs": [],
   "source": [
    "#turn into avg throughput ratio to serial, write to excel\n",
    "with pd.ExcelWriter('expdata.xlsx') as writer:\n",
    "    df.to_excel(writer,sheet_name=\"exp2\")"
   ]
  },
  {
   "cell_type": "code",
   "execution_count": 7,
   "metadata": {},
   "outputs": [
    {
     "data": {
      "text/html": [
       "<div>\n",
       "<style scoped>\n",
       "    .dataframe tbody tr th:only-of-type {\n",
       "        vertical-align: middle;\n",
       "    }\n",
       "\n",
       "    .dataframe tbody tr th {\n",
       "        vertical-align: top;\n",
       "    }\n",
       "\n",
       "    .dataframe thead th {\n",
       "        text-align: right;\n",
       "    }\n",
       "</style>\n",
       "<table border=\"1\" class=\"dataframe\">\n",
       "  <thead>\n",
       "    <tr style=\"text-align: right;\">\n",
       "      <th></th>\n",
       "      <th>Mostly Reads</th>\n",
       "      <th>Heavy Writes</th>\n",
       "    </tr>\n",
       "    <tr>\n",
       "      <th>Hash Table Type</th>\n",
       "      <th></th>\n",
       "      <th></th>\n",
       "    </tr>\n",
       "  </thead>\n",
       "  <tbody>\n",
       "    <tr>\n",
       "      <th>Serial</th>\n",
       "      <td>149.8975</td>\n",
       "      <td>128.5182</td>\n",
       "    </tr>\n",
       "    <tr>\n",
       "      <th>Striped Lock</th>\n",
       "      <td>126.4246</td>\n",
       "      <td>120.9476</td>\n",
       "    </tr>\n",
       "    <tr>\n",
       "      <th>Optimistic Striped Lock</th>\n",
       "      <td>129.5041</td>\n",
       "      <td>120.3621</td>\n",
       "    </tr>\n",
       "  </tbody>\n",
       "</table>\n",
       "</div>"
      ],
      "text/plain": [
       "                         Mostly Reads  Heavy Writes\n",
       "Hash Table Type                                    \n",
       "Serial                       149.8975      128.5182\n",
       "Striped Lock                 126.4246      120.9476\n",
       "Optimistic Striped Lock      129.5041      120.3621"
      ]
     },
     "execution_count": 7,
     "metadata": {},
     "output_type": "execute_result"
    }
   ],
   "source": [
    "df"
   ]
  },
  {
   "cell_type": "code",
   "execution_count": 8,
   "metadata": {},
   "outputs": [],
   "source": [
    "with open(\"exp3_spdup.txt\",\"r\") as f:\n",
    "    txt = list(filter(lambda x:not re.match(r\"\\s*$\",x), f.read().split(\"\\n-------end session-------\\n\")))"
   ]
  },
  {
   "cell_type": "code",
   "execution_count": 9,
   "metadata": {},
   "outputs": [],
   "source": [
    "#initializing each necessary dataframe\n",
    "df_rd5 = pd.DataFrame(columns=['nthreads','Serial','Striped Lock','Optimistic Striped Lock'])\n",
    "df_rd5.loc[:,'nthreads'] = [1,2,4,8,16,32]\n",
    "df_rd5.set_index('nthreads',inplace=True)\n",
    "df_rd5.loc[:,:] = np.zeros((6,3))\n",
    "df_rd75, df_rd9, df_rd99, df_wr5, df_wr75, df_wr9, df_wr99 = [df_rd5.copy() for _ in range(7)]"
   ]
  },
  {
   "cell_type": "code",
   "execution_count": 10,
   "metadata": {},
   "outputs": [],
   "source": [
    "htypedict = {0:'Serial', 1:'Striped Lock', 2:'Optimistic Striped Lock'}\n",
    "loaddict = {(.09,.5):df_rd5,(.09,.75):df_rd75,(.09,.9):df_rd9,(.09,.99):df_rd99,\\\n",
    "            (.45,.5):df_wr5,(.45,.75):df_wr75,(.45,.9):df_wr9,(.45,.99):df_wr99}"
   ]
  },
  {
   "cell_type": "code",
   "execution_count": 11,
   "metadata": {},
   "outputs": [],
   "source": [
    "#parse, then avg\n",
    "for s in range(len(txt)):\n",
    "    processed = int(re.search(r\"(?<=processed: )[0-9]+\",txt[s]).group())\n",
    "    hashtype = int(re.search(r\"(?<=htype: )[0-9]+\",txt[s]).group())\n",
    "    addpor = float(re.search(r\"(?<=addpor: )[0-9]*\\.[0-9]+\",txt[s]).group())\n",
    "    hitrate = float(re.search(r\"(?<=hitrate: )[0-9]*\\.[0-9]+\",txt[s]).group())\n",
    "    nthreads = int(re.search(r\"(?<=nsrc: )[0-9]+\",txt[s]).group())\n",
    "    loaddict[(addpor,hitrate)].loc[nthreads,htypedict[hashtype]] += processed\n",
    "for key in loaddict.keys():\n",
    "    loaddict[key] /= 5*2000\n",
    "    for i in range(1,3):\n",
    "        loaddict[key].iloc[:,i] /= loaddict[key].iloc[:,0] "
   ]
  },
  {
   "cell_type": "code",
   "execution_count": 12,
   "metadata": {},
   "outputs": [],
   "source": [
    "#turn into avg throughput ratio to serial, write to excel\n",
    "with pd.ExcelWriter('expdata.xlsx',mode='a') as writer:\n",
    "    for key in loaddict.keys():\n",
    "        loaddict[key].to_excel(writer,sheet_name=\"exp3 {}\".format(key))"
   ]
  },
  {
   "cell_type": "code",
   "execution_count": 13,
   "metadata": {},
   "outputs": [
    {
     "name": "stdout",
     "output_type": "stream",
     "text": [
      "            Serial  Striped Lock  Optimistic Striped Lock\n",
      "nthreads                                                 \n",
      "1         157.4762      1.002607                 1.006466\n",
      "2         173.5764      1.742806                 1.654586\n",
      "4         163.8252      3.578836                 2.872871\n",
      "8         150.5392      7.047155                 3.717569\n",
      "16        138.2413      5.307995                 4.659982\n",
      "32        139.6563      0.161223                 5.981242\n",
      "            Serial  Striped Lock  Optimistic Striped Lock\n",
      "nthreads                                                 \n",
      "1         168.8801      0.935173                 0.938970\n",
      "2         164.1576      1.847769                 1.764169\n",
      "4         150.7986      3.901201                 3.210244\n",
      "8         144.1533      7.181296                 4.117657\n",
      "16        137.6144      5.505602                 5.184822\n",
      "32        119.1748      0.233591                 3.508310\n",
      "            Serial  Striped Lock  Optimistic Striped Lock\n",
      "nthreads                                                 \n",
      "1         173.4591      0.905292                 0.915906\n",
      "2         163.2533      1.856049                 1.787816\n",
      "4         149.4842      3.903463                 3.283100\n",
      "8         141.6678      7.555807                 4.311881\n",
      "16        132.3079      5.782238                 4.978008\n",
      "32        154.3171      0.122702                 0.114519\n",
      "            Serial  Striped Lock  Optimistic Striped Lock\n",
      "nthreads                                                 \n",
      "1         173.4520      0.908158                 0.919051\n",
      "2         158.9927      1.907383                 1.840657\n",
      "4         148.9803      3.952756                 3.189551\n",
      "8         140.0719      7.592147                 4.560590\n",
      "16        136.6937      5.719160                 4.519645\n",
      "32        183.5314      0.097020                 0.082199\n",
      "            Serial  Striped Lock  Optimistic Striped Lock\n",
      "nthreads                                                 \n",
      "1         135.4853      0.698069                 0.756257\n",
      "2         109.2753      1.713376                 1.369629\n",
      "4          91.6826      3.970118                 3.357735\n",
      "8         119.1565      4.888700                 3.569322\n",
      "16         98.3225      9.151861                 3.205554\n",
      "32        121.3964      0.129692                 3.192458\n",
      "            Serial  Striped Lock  Optimistic Striped Lock\n",
      "nthreads                                                 \n",
      "1         108.9943      0.924602                 0.932783\n",
      "2          96.2350      2.020690                 1.508382\n",
      "4         121.3008      2.860766                 2.768754\n",
      "8          90.7237      7.410062                 4.083468\n",
      "16        119.0734      6.332653                 3.329944\n",
      "32         97.8430      0.160139                 4.499462\n",
      "            Serial  Striped Lock  Optimistic Striped Lock\n",
      "nthreads                                                 \n",
      "1         105.6158      0.965470                 0.956726\n",
      "2          97.1415      2.010838                 1.478992\n",
      "4         114.5664      3.081444                 2.894623\n",
      "8         105.1708      6.065704                 4.067857\n",
      "16         97.8687      8.468518                 4.272384\n",
      "32         83.0889      0.227869                 5.921976\n",
      "            Serial  Striped Lock  Optimistic Striped Lock\n",
      "nthreads                                                 \n",
      "1         109.2216      0.919500                 0.925835\n",
      "2          97.7640      1.991057                 1.697653\n",
      "4         115.5594      3.064489                 2.759310\n",
      "8          89.8760      7.563968                 4.414585\n",
      "16         92.4045      8.346591                 4.426400\n",
      "32         85.6047      0.260035                 6.192736\n"
     ]
    }
   ],
   "source": [
    "for key in loaddict.keys():\n",
    "    print(loaddict[key])"
   ]
  },
  {
   "cell_type": "code",
   "execution_count": 14,
   "metadata": {},
   "outputs": [],
   "source": [
    "with open(\"optovr.txt\",\"r\") as f:\n",
    "    txt = list(filter(lambda x:not re.match(r\"\\s*$\",x), f.read().split(\"\\n-------end session-------\\n\")))"
   ]
  },
  {
   "cell_type": "code",
   "execution_count": 15,
   "metadata": {},
   "outputs": [],
   "source": [
    "#initializing each necessary dataframe\n",
    "df = pd.DataFrame(columns=['Hash Table Type','Mostly Reads','Heavy Writes'])\n",
    "df.loc[:,'Hash Table Type'] = ['Serial', 'Striped Lock', 'Optimistic Striped Lock']\n",
    "df.set_index('Hash Table Type',inplace=True)\n",
    "df.loc[:,:] = np.zeros((3,2))"
   ]
  },
  {
   "cell_type": "code",
   "execution_count": 16,
   "metadata": {},
   "outputs": [],
   "source": [
    "htypedict = {0:'Serial', 1:'Striped Lock', 2:'Optimistic Striped Lock'}\n",
    "optypedict = {.09: 'Mostly Reads', .45: 'Heavy Writes'}"
   ]
  },
  {
   "cell_type": "code",
   "execution_count": 17,
   "metadata": {},
   "outputs": [],
   "source": [
    "#parse, then avg\n",
    "for s in range(len(txt)):\n",
    "    processed = int(re.search(r\"(?<=processed: )[0-9]+\",txt[s]).group())\n",
    "    hashtype = int(re.search(r\"(?<=htype: )[0-9]+\",txt[s]).group())\n",
    "    addpor = float(re.search(r\"(?<=addpor: )[0-9]*\\.[0-9]+\",txt[s]).group())\n",
    "    df.loc[htypedict[hashtype],optypedict[addpor]] += processed\n",
    "df /= (5*2000)"
   ]
  },
  {
   "cell_type": "code",
   "execution_count": 18,
   "metadata": {},
   "outputs": [],
   "source": [
    "#turn into avg throughput ratio to serial, write to excel\n",
    "with pd.ExcelWriter('expdata.xlsx',mode='a') as writer:\n",
    "    df.to_excel(writer,sheet_name=\"optovr\")"
   ]
  },
  {
   "cell_type": "code",
   "execution_count": 19,
   "metadata": {},
   "outputs": [
    {
     "data": {
      "text/html": [
       "<div>\n",
       "<style scoped>\n",
       "    .dataframe tbody tr th:only-of-type {\n",
       "        vertical-align: middle;\n",
       "    }\n",
       "\n",
       "    .dataframe tbody tr th {\n",
       "        vertical-align: top;\n",
       "    }\n",
       "\n",
       "    .dataframe thead th {\n",
       "        text-align: right;\n",
       "    }\n",
       "</style>\n",
       "<table border=\"1\" class=\"dataframe\">\n",
       "  <thead>\n",
       "    <tr style=\"text-align: right;\">\n",
       "      <th></th>\n",
       "      <th>Mostly Reads</th>\n",
       "      <th>Heavy Writes</th>\n",
       "    </tr>\n",
       "    <tr>\n",
       "      <th>Hash Table Type</th>\n",
       "      <th></th>\n",
       "      <th></th>\n",
       "    </tr>\n",
       "  </thead>\n",
       "  <tbody>\n",
       "    <tr>\n",
       "      <th>Serial</th>\n",
       "      <td>166.4638</td>\n",
       "      <td>127.6528</td>\n",
       "    </tr>\n",
       "    <tr>\n",
       "      <th>Striped Lock</th>\n",
       "      <td>820.1316</td>\n",
       "      <td>803.0515</td>\n",
       "    </tr>\n",
       "    <tr>\n",
       "      <th>Optimistic Striped Lock</th>\n",
       "      <td>605.2175</td>\n",
       "      <td>280.4652</td>\n",
       "    </tr>\n",
       "  </tbody>\n",
       "</table>\n",
       "</div>"
      ],
      "text/plain": [
       "                         Mostly Reads  Heavy Writes\n",
       "Hash Table Type                                    \n",
       "Serial                       166.4638      127.6528\n",
       "Striped Lock                 820.1316      803.0515\n",
       "Optimistic Striped Lock      605.2175      280.4652"
      ]
     },
     "execution_count": 19,
     "metadata": {},
     "output_type": "execute_result"
    }
   ],
   "source": [
    "df"
   ]
  }
 ],
 "metadata": {
  "kernelspec": {
   "display_name": "Python 3",
   "language": "python",
   "name": "python3"
  },
  "language_info": {
   "codemirror_mode": {
    "name": "ipython",
    "version": 3
   },
   "file_extension": ".py",
   "mimetype": "text/x-python",
   "name": "python",
   "nbconvert_exporter": "python",
   "pygments_lexer": "ipython3",
   "version": "3.7.0"
  }
 },
 "nbformat": 4,
 "nbformat_minor": 2
}
